{
 "cells": [
  {
   "cell_type": "code",
   "execution_count": 2,
   "metadata": {},
   "outputs": [],
   "source": [
    "from qiskit_ibm_runtime import Batch,QiskitRuntimeService, SamplerV2 as Sampler, EstimatorV2 as Estimator\n",
    "\n",
    "\n",
    "service = QiskitRuntimeService()\n",
    "backend = service.least_busy(operational=True, simulator=False)\n",
    "batch = Batch(backend=backend)\n",
    "estimator = Estimator(mode=batch)\n",
    "sampler = Sampler(mode=batch)\n",
    "batch.close()"
   ]
  },
  {
   "cell_type": "code",
   "execution_count": 3,
   "metadata": {},
   "outputs": [],
   "source": [
    "from qiskit_ibm_runtime import Batch, SamplerV2 as Sampler, EstimatorV2 as Estimator\n",
    " \n",
    "backend = service.least_busy(operational=True, simulator=False)\n",
    "with Batch(backend=backend):\n",
    "  estimator = Estimator()\n",
    "  sampler = Sampler()"
   ]
  },
  {
   "cell_type": "code",
   "execution_count": 4,
   "metadata": {},
   "outputs": [],
   "source": [
    "with Batch(backend=backend, max_time=\"25m\"):\n",
    "  ..."
   ]
  },
  {
   "cell_type": "code",
   "execution_count": null,
   "metadata": {},
   "outputs": [],
   "source": []
  }
 ],
 "metadata": {
  "kernelspec": {
   "display_name": "base",
   "language": "python",
   "name": "python3"
  },
  "language_info": {
   "codemirror_mode": {
    "name": "ipython",
    "version": 3
   },
   "file_extension": ".py",
   "mimetype": "text/x-python",
   "name": "python",
   "nbconvert_exporter": "python",
   "pygments_lexer": "ipython3",
   "version": "3.12.4"
  }
 },
 "nbformat": 4,
 "nbformat_minor": 2
}
